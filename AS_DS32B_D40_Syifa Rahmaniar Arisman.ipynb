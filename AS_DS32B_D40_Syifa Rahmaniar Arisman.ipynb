{
 "cells": [
  {
   "cell_type": "code",
   "execution_count": 2,
   "id": "9f72c9aa",
   "metadata": {},
   "outputs": [],
   "source": [
    "# --- Import Libraries ---\n",
    "import streamlit as st \n",
    "import pandas as pd\n",
    "import numpy as np \n",
    "import pickle \n",
    "from datetime import datetime, timedelta\n",
    "import matplotlib.pyplot as plt"
   ]
  },
  {
   "cell_type": "code",
   "execution_count": 4,
   "id": "4365326b",
   "metadata": {},
   "outputs": [
    {
     "name": "stderr",
     "output_type": "stream",
     "text": [
      "2025-07-12 15:17:01.323 WARNING streamlit.runtime.scriptrunner_utils.script_run_context: Thread 'MainThread': missing ScriptRunContext! This warning can be ignored when running in bare mode.\n"
     ]
    }
   ],
   "source": [
    "# --- Konfigurasi Halaman ---\n",
    "st.set_page_config(\n",
    "\t    page_title=\"Sales Analysis\",\n",
    "\t    page_icon=\"📊\", \n",
    "\t    layout=\"centered\",\n",
    "\t    initial_sidebar_state=\"auto\"\n",
    "\t)"
   ]
  },
  {
   "cell_type": "code",
   "execution_count": 5,
   "id": "9f4aed8e",
   "metadata": {},
   "outputs": [
    {
     "name": "stderr",
     "output_type": "stream",
     "text": [
      "2025-07-12 15:17:05.504 WARNING streamlit.runtime.caching.cache_data_api: No runtime found, using MemoryCacheStorageManager\n",
      "2025-07-12 15:17:05.505 WARNING streamlit.runtime.caching.cache_data_api: No runtime found, using MemoryCacheStorageManager\n",
      "2025-07-12 15:17:05.506 WARNING streamlit.runtime.scriptrunner_utils.script_run_context: Thread 'MainThread': missing ScriptRunContext! This warning can be ignored when running in bare mode.\n",
      "2025-07-12 15:17:05.644 \n",
      "  \u001b[33m\u001b[1mWarning:\u001b[0m to view this Streamlit app on a browser, run it with the following\n",
      "  command:\n",
      "\n",
      "    streamlit run C:\\Users\\LENOVO\\AppData\\Local\\Packages\\PythonSoftwareFoundation.Python.3.13_qbz5n2kfra8p0\\LocalCache\\local-packages\\Python313\\site-packages\\ipykernel_launcher.py [ARGUMENTS]\n",
      "2025-07-12 15:17:05.645 Thread 'MainThread': missing ScriptRunContext! This warning can be ignored when running in bare mode.\n",
      "2025-07-12 15:17:05.646 Thread 'MainThread': missing ScriptRunContext! This warning can be ignored when running in bare mode.\n",
      "2025-07-12 15:17:05.646 Thread 'MainThread': missing ScriptRunContext! This warning can be ignored when running in bare mode.\n",
      "2025-07-12 15:17:05.649 Thread 'MainThread': missing ScriptRunContext! This warning can be ignored when running in bare mode.\n",
      "2025-07-12 15:17:05.650 Thread 'MainThread': missing ScriptRunContext! This warning can be ignored when running in bare mode.\n",
      "2025-07-12 15:17:05.650 Thread 'MainThread': missing ScriptRunContext! This warning can be ignored when running in bare mode.\n",
      "2025-07-12 15:17:05.651 Thread 'MainThread': missing ScriptRunContext! This warning can be ignored when running in bare mode.\n",
      "2025-07-12 15:17:05.651 Thread 'MainThread': missing ScriptRunContext! This warning can be ignored when running in bare mode.\n",
      "2025-07-12 15:17:05.652 Thread 'MainThread': missing ScriptRunContext! This warning can be ignored when running in bare mode.\n",
      "2025-07-12 15:17:05.654 Thread 'MainThread': missing ScriptRunContext! This warning can be ignored when running in bare mode.\n",
      "2025-07-12 15:17:05.655 Thread 'MainThread': missing ScriptRunContext! This warning can be ignored when running in bare mode.\n",
      "2025-07-12 15:17:05.656 Thread 'MainThread': missing ScriptRunContext! This warning can be ignored when running in bare mode.\n"
     ]
    }
   ],
   "source": [
    "# -- Load Data --\n",
    "@st.cache_data\n",
    "def load_data():\n",
    "    file_path = \"C:/Users/LENOVO/Downloads/superstore_dataset.xlsx\"\n",
    "    try:\n",
    "        df = pd.read_excel(file_path)\n",
    "        # Konversi kolom 'order_date' ke datetime\n",
    "        if 'order_date' in df.columns:\n",
    "            df['order_date'] = pd.to_datetime(df['order_date'], errors='coerce')\n",
    "            df.dropna(subset=['order_date'], inplace=True) # Hapus baris dengan tanggal tidak valid\n",
    "        return df\n",
    "    except FileNotFoundError:\n",
    "        st.error(f\"File not found at path {file_path}. Please ensure the path is correct.\")\n",
    "        return pd.DataFrame() # Kembalikan DataFrame kosong jika file tidak ditemukan\n",
    "    except Exception as e:\n",
    "        st.error(f\"An error occurred while loading the file: {e}\")\n",
    "        st.info(\"Please ensure 'openpyxl' is installed using `pip install openpyxl`.\")\n",
    "        return pd.DataFrame()\n",
    "\n",
    "# --- Memuat Data ---\n",
    "df = load_data()"
   ]
  },
  {
   "cell_type": "code",
   "execution_count": 6,
   "id": "b162e129",
   "metadata": {},
   "outputs": [
    {
     "name": "stderr",
     "output_type": "stream",
     "text": [
      "2025-07-12 15:17:11.368 Thread 'MainThread': missing ScriptRunContext! This warning can be ignored when running in bare mode.\n",
      "2025-07-12 15:17:11.369 Thread 'MainThread': missing ScriptRunContext! This warning can be ignored when running in bare mode.\n",
      "2025-07-12 15:17:11.369 Thread 'MainThread': missing ScriptRunContext! This warning can be ignored when running in bare mode.\n",
      "2025-07-12 15:17:11.369 Thread 'MainThread': missing ScriptRunContext! This warning can be ignored when running in bare mode.\n",
      "2025-07-12 15:17:11.370 Thread 'MainThread': missing ScriptRunContext! This warning can be ignored when running in bare mode.\n",
      "2025-07-12 15:17:11.370 Thread 'MainThread': missing ScriptRunContext! This warning can be ignored when running in bare mode.\n"
     ]
    },
    {
     "data": {
      "text/plain": [
       "DeltaGenerator()"
      ]
     },
     "execution_count": 6,
     "metadata": {},
     "output_type": "execute_result"
    }
   ],
   "source": [
    "# --- Judul dan Deskripsi ---\n",
    "st.title(\"📊 Sales Analysis\")\n",
    "st.markdown(\"This dashboard provides an overview of sales analysis\")"
   ]
  },
  {
   "cell_type": "code",
   "execution_count": 7,
   "id": "da02939e",
   "metadata": {},
   "outputs": [
    {
     "name": "stderr",
     "output_type": "stream",
     "text": [
      "2025-07-12 15:17:17.125 Thread 'MainThread': missing ScriptRunContext! This warning can be ignored when running in bare mode.\n",
      "2025-07-12 15:17:17.126 Thread 'MainThread': missing ScriptRunContext! This warning can be ignored when running in bare mode.\n",
      "2025-07-12 15:17:17.127 Thread 'MainThread': missing ScriptRunContext! This warning can be ignored when running in bare mode.\n",
      "2025-07-12 15:17:17.129 Thread 'MainThread': missing ScriptRunContext! This warning can be ignored when running in bare mode.\n",
      "2025-07-12 15:17:17.129 Thread 'MainThread': missing ScriptRunContext! This warning can be ignored when running in bare mode.\n",
      "2025-07-12 15:17:17.130 Thread 'MainThread': missing ScriptRunContext! This warning can be ignored when running in bare mode.\n"
     ]
    }
   ],
   "source": [
    "# --- Dashboard ---\n",
    "st.title(\"📊 Sales Dashboard\")\n",
    "\n",
    "if not df.empty:\n",
    "    st.write(\"Data loaded successfully from your Excel file!\")\n",
    "\n",
    "    # --- Data Overview ---\n",
    "    st.subheader(\"Data Overview\")\n",
    "    st.write(f\"Number of rows: **{df.shape[0]}** | Number of columns: **{df.shape[1]}**\")\n",
    "    st.dataframe(df.head())\n",
    "\n",
    "    # --- Data Summary ---\n",
    "    st.subheader(\"Data Summary\")\n",
    "    st.dataframe(df.describe())\n",
    "\n",
    "    # --- Key Visualizations ---\n",
    "    st.header(\"Key Visualizations\")\n",
    "    if 'order_date' in df.columns and 'sales' in df.columns:\n",
    "        st.subheader(\"Monthly Sales Trend\")\n",
    "        df_monthly_sales = df.set_index('order_date')['sales'].resample('M').sum().reset_index()\n",
    "\n",
    "        # Create Matplotlib figure and axes\n",
    "        fig, ax = plt.subplots(figsize=(10, 6))\n",
    "        ax.plot(df_monthly_sales['order_date'], df_monthly_sales['sales'], marker='o')\n",
    "        ax.set_title('Total Sales per Month')\n",
    "        ax.set_xlabel('Month')\n",
    "        ax.set_ylabel('Total Sales')\n",
    "        ax.grid(True)\n",
    "        plt.xticks(rotation=45)\n",
    "        plt.tight_layout()\n",
    "\n",
    "        st.pyplot(fig)\n",
    "    else:\n",
    "        st.info(\"Columns 'order_date' or 'sales' not found for sales trend visualization.\")\n",
    "\n",
    "    # --- Sales by Category ---\n",
    "    if 'category' in df.columns and 'sales' in df.columns:\n",
    "        st.subheader(\"Sales by Category\")\n",
    "        df_category_sales = df.groupby('category')['sales'].sum().reset_index().sort_values(by='sales', ascending=False)\n",
    "        \n",
    "        fig_bar, ax_bar = plt.subplots(figsize=(10, 6))\n",
    "        ax_bar.bar(df_category_sales['category'], df_category_sales['sales'])\n",
    "        ax_bar.set_title('Total Sales by Category')\n",
    "        ax_bar.set_xlabel('Category')\n",
    "        ax_bar.set_ylabel('Total Sales')\n",
    "        plt.xticks(rotation=45, ha='right')\n",
    "        plt.tight_layout()\n",
    "        st.pyplot(fig_bar)\n",
    "\n",
    "else:\n",
    "    st.warning(\"No data loaded. Please check your file path or Excel file.\")"
   ]
  },
  {
   "cell_type": "code",
   "execution_count": 8,
   "id": "9ed6854c",
   "metadata": {},
   "outputs": [
    {
     "name": "stderr",
     "output_type": "stream",
     "text": [
      "2025-07-12 15:17:22.031 Thread 'MainThread': missing ScriptRunContext! This warning can be ignored when running in bare mode.\n",
      "2025-07-12 15:17:22.032 Thread 'MainThread': missing ScriptRunContext! This warning can be ignored when running in bare mode.\n",
      "2025-07-12 15:17:22.032 Thread 'MainThread': missing ScriptRunContext! This warning can be ignored when running in bare mode.\n"
     ]
    },
    {
     "data": {
      "text/plain": [
       "DeltaGenerator()"
      ]
     },
     "execution_count": 8,
     "metadata": {},
     "output_type": "execute_result"
    }
   ],
   "source": [
    "# --- Footer ---\n",
    "st.markdown(\"---\")"
   ]
  }
 ],
 "metadata": {
  "kernelspec": {
   "display_name": "Python 3",
   "language": "python",
   "name": "python3"
  },
  "language_info": {
   "codemirror_mode": {
    "name": "ipython",
    "version": 3
   },
   "file_extension": ".py",
   "mimetype": "text/x-python",
   "name": "python",
   "nbconvert_exporter": "python",
   "pygments_lexer": "ipython3",
   "version": "3.13.5"
  }
 },
 "nbformat": 4,
 "nbformat_minor": 5
}
